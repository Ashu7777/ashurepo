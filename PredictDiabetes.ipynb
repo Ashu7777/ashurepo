{
  "nbformat": 4,
  "nbformat_minor": 0,
  "metadata": {
    "colab": {
      "name": "PredictDiabetes.ipynb",
      "provenance": [],
      "collapsed_sections": [],
      "toc_visible": true,
      "mount_file_id": "1jWTJG43U2ls4HxQvN08ukxHaW_Qs_Tmu",
      "authorship_tag": "ABX9TyOLsTZe8nB9PX1C0EmCxnC4",
      "include_colab_link": true
    },
    "kernelspec": {
      "name": "python3",
      "display_name": "Python 3"
    },
    "language_info": {
      "name": "python"
    }
  },
  "cells": [
    {
      "cell_type": "markdown",
      "metadata": {
        "id": "view-in-github",
        "colab_type": "text"
      },
      "source": [
        "<a href=\"https://colab.research.google.com/github/Ashu7777/ashurepo/blob/master/PredictDiabetes.ipynb\" target=\"_parent\"><img src=\"https://colab.research.google.com/assets/colab-badge.svg\" alt=\"Open In Colab\"/></a>"
      ]
    },
    {
      "cell_type": "code",
      "metadata": {
        "id": "Y_qajidM1vDO"
      },
      "source": [
        "#Importing libaries\n",
        "import pandas as pd\n",
        "import numpy as np\n",
        "import seaborn as sns\n",
        "import tensorflow as tf\n",
        "import matplotlib.pyplot as plt\n",
        "import warnings\n",
        "warnings.filterwarnings(\"ignore\")"
      ],
      "execution_count": null,
      "outputs": []
    },
    {
      "cell_type": "code",
      "metadata": {
        "id": "241buEeU5Z1j"
      },
      "source": [
        "#importing dataset which is uploaded on google drive\n",
        "dataset=pd.read_csv('/content/drive/MyDrive/Predict Diabetes/diabetes.csv')"
      ],
      "execution_count": null,
      "outputs": []
    },
    {
      "cell_type": "code",
      "metadata": {
        "colab": {
          "base_uri": "https://localhost:8080/",
          "height": 419
        },
        "id": "7xibGeYO6Ssy",
        "outputId": "0e7d17b5-89b7-4a45-b826-ebdd78e9ed10"
      },
      "source": [
        "dataset"
      ],
      "execution_count": null,
      "outputs": [
        {
          "output_type": "execute_result",
          "data": {
            "text/html": [
              "<div>\n",
              "<style scoped>\n",
              "    .dataframe tbody tr th:only-of-type {\n",
              "        vertical-align: middle;\n",
              "    }\n",
              "\n",
              "    .dataframe tbody tr th {\n",
              "        vertical-align: top;\n",
              "    }\n",
              "\n",
              "    .dataframe thead th {\n",
              "        text-align: right;\n",
              "    }\n",
              "</style>\n",
              "<table border=\"1\" class=\"dataframe\">\n",
              "  <thead>\n",
              "    <tr style=\"text-align: right;\">\n",
              "      <th></th>\n",
              "      <th>Pregnancies</th>\n",
              "      <th>Glucose</th>\n",
              "      <th>BloodPressure</th>\n",
              "      <th>SkinThickness</th>\n",
              "      <th>Insulin</th>\n",
              "      <th>BMI</th>\n",
              "      <th>DiabetesPedigreeFunction</th>\n",
              "      <th>Age</th>\n",
              "      <th>Outcome</th>\n",
              "    </tr>\n",
              "  </thead>\n",
              "  <tbody>\n",
              "    <tr>\n",
              "      <th>0</th>\n",
              "      <td>6</td>\n",
              "      <td>148</td>\n",
              "      <td>72</td>\n",
              "      <td>35</td>\n",
              "      <td>0</td>\n",
              "      <td>33.6</td>\n",
              "      <td>0.627</td>\n",
              "      <td>50</td>\n",
              "      <td>1</td>\n",
              "    </tr>\n",
              "    <tr>\n",
              "      <th>1</th>\n",
              "      <td>1</td>\n",
              "      <td>85</td>\n",
              "      <td>66</td>\n",
              "      <td>29</td>\n",
              "      <td>0</td>\n",
              "      <td>26.6</td>\n",
              "      <td>0.351</td>\n",
              "      <td>31</td>\n",
              "      <td>0</td>\n",
              "    </tr>\n",
              "    <tr>\n",
              "      <th>2</th>\n",
              "      <td>8</td>\n",
              "      <td>183</td>\n",
              "      <td>64</td>\n",
              "      <td>0</td>\n",
              "      <td>0</td>\n",
              "      <td>23.3</td>\n",
              "      <td>0.672</td>\n",
              "      <td>32</td>\n",
              "      <td>1</td>\n",
              "    </tr>\n",
              "    <tr>\n",
              "      <th>3</th>\n",
              "      <td>1</td>\n",
              "      <td>89</td>\n",
              "      <td>66</td>\n",
              "      <td>23</td>\n",
              "      <td>94</td>\n",
              "      <td>28.1</td>\n",
              "      <td>0.167</td>\n",
              "      <td>21</td>\n",
              "      <td>0</td>\n",
              "    </tr>\n",
              "    <tr>\n",
              "      <th>4</th>\n",
              "      <td>0</td>\n",
              "      <td>137</td>\n",
              "      <td>40</td>\n",
              "      <td>35</td>\n",
              "      <td>168</td>\n",
              "      <td>43.1</td>\n",
              "      <td>2.288</td>\n",
              "      <td>33</td>\n",
              "      <td>1</td>\n",
              "    </tr>\n",
              "    <tr>\n",
              "      <th>...</th>\n",
              "      <td>...</td>\n",
              "      <td>...</td>\n",
              "      <td>...</td>\n",
              "      <td>...</td>\n",
              "      <td>...</td>\n",
              "      <td>...</td>\n",
              "      <td>...</td>\n",
              "      <td>...</td>\n",
              "      <td>...</td>\n",
              "    </tr>\n",
              "    <tr>\n",
              "      <th>763</th>\n",
              "      <td>10</td>\n",
              "      <td>101</td>\n",
              "      <td>76</td>\n",
              "      <td>48</td>\n",
              "      <td>180</td>\n",
              "      <td>32.9</td>\n",
              "      <td>0.171</td>\n",
              "      <td>63</td>\n",
              "      <td>0</td>\n",
              "    </tr>\n",
              "    <tr>\n",
              "      <th>764</th>\n",
              "      <td>2</td>\n",
              "      <td>122</td>\n",
              "      <td>70</td>\n",
              "      <td>27</td>\n",
              "      <td>0</td>\n",
              "      <td>36.8</td>\n",
              "      <td>0.340</td>\n",
              "      <td>27</td>\n",
              "      <td>0</td>\n",
              "    </tr>\n",
              "    <tr>\n",
              "      <th>765</th>\n",
              "      <td>5</td>\n",
              "      <td>121</td>\n",
              "      <td>72</td>\n",
              "      <td>23</td>\n",
              "      <td>112</td>\n",
              "      <td>26.2</td>\n",
              "      <td>0.245</td>\n",
              "      <td>30</td>\n",
              "      <td>0</td>\n",
              "    </tr>\n",
              "    <tr>\n",
              "      <th>766</th>\n",
              "      <td>1</td>\n",
              "      <td>126</td>\n",
              "      <td>60</td>\n",
              "      <td>0</td>\n",
              "      <td>0</td>\n",
              "      <td>30.1</td>\n",
              "      <td>0.349</td>\n",
              "      <td>47</td>\n",
              "      <td>1</td>\n",
              "    </tr>\n",
              "    <tr>\n",
              "      <th>767</th>\n",
              "      <td>1</td>\n",
              "      <td>93</td>\n",
              "      <td>70</td>\n",
              "      <td>31</td>\n",
              "      <td>0</td>\n",
              "      <td>30.4</td>\n",
              "      <td>0.315</td>\n",
              "      <td>23</td>\n",
              "      <td>0</td>\n",
              "    </tr>\n",
              "  </tbody>\n",
              "</table>\n",
              "<p>768 rows × 9 columns</p>\n",
              "</div>"
            ],
            "text/plain": [
              "     Pregnancies  Glucose  ...  Age  Outcome\n",
              "0              6      148  ...   50        1\n",
              "1              1       85  ...   31        0\n",
              "2              8      183  ...   32        1\n",
              "3              1       89  ...   21        0\n",
              "4              0      137  ...   33        1\n",
              "..           ...      ...  ...  ...      ...\n",
              "763           10      101  ...   63        0\n",
              "764            2      122  ...   27        0\n",
              "765            5      121  ...   30        0\n",
              "766            1      126  ...   47        1\n",
              "767            1       93  ...   23        0\n",
              "\n",
              "[768 rows x 9 columns]"
            ]
          },
          "metadata": {
            "tags": []
          },
          "execution_count": 4
        }
      ]
    },
    {
      "cell_type": "code",
      "metadata": {
        "colab": {
          "base_uri": "https://localhost:8080/"
        },
        "id": "RnkESotJ6V0V",
        "outputId": "f21f33b8-2456-4d70-9323-eac448c2f291"
      },
      "source": [
        "dataset.info()"
      ],
      "execution_count": null,
      "outputs": [
        {
          "output_type": "stream",
          "text": [
            "<class 'pandas.core.frame.DataFrame'>\n",
            "RangeIndex: 768 entries, 0 to 767\n",
            "Data columns (total 9 columns):\n",
            " #   Column                    Non-Null Count  Dtype  \n",
            "---  ------                    --------------  -----  \n",
            " 0   Pregnancies               768 non-null    int64  \n",
            " 1   Glucose                   768 non-null    int64  \n",
            " 2   BloodPressure             768 non-null    int64  \n",
            " 3   SkinThickness             768 non-null    int64  \n",
            " 4   Insulin                   768 non-null    int64  \n",
            " 5   BMI                       768 non-null    float64\n",
            " 6   DiabetesPedigreeFunction  768 non-null    float64\n",
            " 7   Age                       768 non-null    int64  \n",
            " 8   Outcome                   768 non-null    int64  \n",
            "dtypes: float64(2), int64(7)\n",
            "memory usage: 54.1 KB\n"
          ],
          "name": "stdout"
        }
      ]
    },
    {
      "cell_type": "code",
      "metadata": {
        "id": "I2Z7MNq76k2M",
        "colab": {
          "base_uri": "https://localhost:8080/",
          "height": 716
        },
        "outputId": "2bb765fb-b8eb-41c7-c568-e1be12b9e47c"
      },
      "source": [
        "#Heat map correlation\n",
        "plt.figure(figsize=(10,10))\n",
        "sns.heatmap(dataset.corr(), cmap=\"YlGnBu\", annot= True,)\n",
        "plt.show()"
      ],
      "execution_count": 6,
      "outputs": [
        {
          "output_type": "display_data",
          "data": {
            "image/png": "[encoded data removed]",
            "text/plain": [
              "<Figure size 720x720 with 2 Axes>"
            ]
          },
          "metadata": {
            "tags": [],
            "needs_background": "light"
          }
        }
      ]
    },
    {
      "cell_type": "code",
      "metadata": {
        "colab": {
          "base_uri": "https://localhost:8080/",
          "height": 427
        },
        "id": "YiQJ6mN7g6Q1",
        "outputId": "37f4d703-c3b3-4873-e294-18b31fad31e1"
      },
      "source": [
        "sns.set(style=\"whitegrid\")\n",
        "labels = ['Healthy', 'Diabetic']\n",
        "sizes = dataset['Outcome'].value_counts(sort = True)\n",
        "\n",
        "colors = [\"lightblue\",\"red\"]\n",
        "explode = (0.05,0) \n",
        " \n",
        "plt.figure(figsize=(7,7))\n",
        "plt.pie(sizes, explode=explode, labels=labels, colors=colors, autopct='%1.1f%%', shadow=True, startangle=90,)\n",
        "\n",
        "plt.title('Number of diabetes in the dataset')\n",
        "plt.show()"
      ],
      "execution_count": 7,
      "outputs": [
        {
          "output_type": "display_data",
          "data": {
            "image/png": "[encoded data removed]",
            "text/plain": [
              "<Figure size 504x504 with 1 Axes>"
            ]
          },
          "metadata": {
            "tags": []
          }
        }
      ]
    },
    {
      "cell_type": "code",
      "metadata": {
        "id": "8qd_oSvghBE6"
      },
      "source": [
        "#Data preprocessing\n",
        "x = dataset.iloc[:, :-1].values\n",
        "y = dataset.iloc[:, -1].values"
      ],
      "execution_count": 8,
      "outputs": []
    },
    {
      "cell_type": "code",
      "metadata": {
        "colab": {
          "base_uri": "https://localhost:8080/"
        },
        "id": "B61HtiVKof_R",
        "outputId": "c025238e-548b-4919-f320-cb463d7804fb"
      },
      "source": [
        "x"
      ],
      "execution_count": 9,
      "outputs": [
        {
          "output_type": "execute_result",
          "data": {
            "text/plain": [
              "array([[  6.   , 148.   ,  72.   , ...,  33.6  ,   0.627,  50.   ],\n",
              "       [  1.   ,  85.   ,  66.   , ...,  26.6  ,   0.351,  31.   ],\n",
              "       [  8.   , 183.   ,  64.   , ...,  23.3  ,   0.672,  32.   ],\n",
              "       ...,\n",
              "       [  5.   , 121.   ,  72.   , ...,  26.2  ,   0.245,  30.   ],\n",
              "       [  1.   , 126.   ,  60.   , ...,  30.1  ,   0.349,  47.   ],\n",
              "       [  1.   ,  93.   ,  70.   , ...,  30.4  ,   0.315,  23.   ]])"
            ]
          },
          "metadata": {
            "tags": []
          },
          "execution_count": 9
        }
      ]
    },
    {
      "cell_type": "code",
      "metadata": {
        "colab": {
          "base_uri": "https://localhost:8080/"
        },
        "id": "4Nu0x1iAokWq",
        "outputId": "52f60bdc-7caf-4089-b247-feb911699df5"
      },
      "source": [
        "y"
      ],
      "execution_count": 10,
      "outputs": [
        {
          "output_type": "execute_result",
          "data": {
            "text/plain": [
              "array([1, 0, 1, 0, 1, 0, 1, 0, 1, 1, 0, 1, 0, 1, 1, 1, 1, 1, 0, 1, 0, 0,\n",
              "       1, 1, 1, 1, 1, 0, 0, 0, 0, 1, 0, 0, 0, 0, 0, 1, 1, 1, 0, 0, 0, 1,\n",
              "       0, 1, 0, 0, 1, 0, 0, 0, 0, 1, 0, 0, 1, 0, 0, 0, 0, 1, 0, 0, 1, 0,\n",
              "       1, 0, 0, 0, 1, 0, 1, 0, 0, 0, 0, 0, 1, 0, 0, 0, 0, 0, 1, 0, 0, 0,\n",
              "       1, 0, 0, 0, 0, 1, 0, 0, 0, 0, 0, 1, 1, 0, 0, 0, 0, 0, 0, 0, 0, 1,\n",
              "       1, 1, 0, 0, 1, 1, 1, 0, 0, 0, 1, 0, 0, 0, 1, 1, 0, 0, 1, 1, 1, 1,\n",
              "       1, 0, 0, 0, 0, 0, 0, 0, 0, 0, 0, 1, 0, 0, 0, 0, 0, 0, 0, 0, 1, 0,\n",
              "       1, 1, 0, 0, 0, 1, 0, 0, 0, 0, 1, 1, 0, 0, 0, 0, 1, 1, 0, 0, 0, 1,\n",
              "       0, 1, 0, 1, 0, 0, 0, 0, 0, 1, 1, 1, 1, 1, 0, 0, 1, 1, 0, 1, 0, 1,\n",
              "       1, 1, 0, 0, 0, 0, 0, 0, 1, 1, 0, 1, 0, 0, 0, 1, 1, 1, 1, 0, 1, 1,\n",
              "       1, 1, 0, 0, 0, 0, 0, 1, 0, 0, 1, 1, 0, 0, 0, 1, 1, 1, 1, 0, 0, 0,\n",
              "       1, 1, 0, 1, 0, 0, 0, 0, 0, 0, 0, 0, 1, 1, 0, 0, 0, 1, 0, 1, 0, 0,\n",
              "       1, 0, 1, 0, 0, 1, 1, 0, 0, 0, 0, 0, 1, 0, 0, 0, 1, 0, 0, 1, 1, 0,\n",
              "       0, 1, 0, 0, 0, 1, 1, 1, 0, 0, 1, 0, 1, 0, 1, 1, 0, 1, 0, 0, 1, 0,\n",
              "       1, 1, 0, 0, 1, 0, 1, 0, 0, 1, 0, 1, 0, 1, 1, 1, 0, 0, 1, 0, 1, 0,\n",
              "       0, 0, 1, 0, 0, 0, 0, 1, 1, 1, 0, 0, 0, 0, 0, 0, 0, 0, 0, 1, 0, 0,\n",
              "       0, 0, 0, 1, 1, 1, 0, 1, 1, 0, 0, 1, 0, 0, 1, 0, 0, 1, 1, 0, 0, 0,\n",
              "       0, 1, 0, 0, 1, 0, 0, 0, 0, 0, 0, 0, 1, 1, 1, 0, 0, 1, 0, 0, 1, 0,\n",
              "       0, 1, 0, 1, 1, 0, 1, 0, 1, 0, 1, 0, 1, 1, 0, 0, 0, 0, 1, 1, 0, 1,\n",
              "       0, 1, 0, 0, 0, 0, 1, 1, 0, 1, 0, 1, 0, 0, 0, 0, 0, 1, 0, 0, 0, 0,\n",
              "       1, 0, 0, 1, 1, 1, 0, 0, 1, 0, 0, 1, 0, 0, 0, 1, 0, 0, 1, 0, 0, 0,\n",
              "       0, 0, 0, 0, 0, 0, 1, 0, 0, 0, 0, 0, 0, 0, 1, 0, 0, 0, 1, 0, 0, 0,\n",
              "       1, 1, 0, 0, 0, 0, 0, 0, 0, 1, 0, 0, 0, 0, 1, 0, 0, 0, 1, 0, 0, 0,\n",
              "       1, 0, 0, 0, 1, 0, 0, 0, 0, 1, 1, 0, 0, 0, 0, 0, 0, 1, 0, 0, 0, 0,\n",
              "       0, 0, 0, 0, 0, 0, 0, 1, 0, 0, 0, 1, 1, 1, 1, 0, 0, 1, 1, 0, 0, 0,\n",
              "       0, 0, 0, 0, 0, 0, 0, 0, 0, 0, 1, 1, 0, 0, 0, 0, 0, 0, 0, 1, 0, 0,\n",
              "       0, 0, 0, 0, 0, 1, 0, 1, 1, 0, 0, 0, 1, 0, 1, 0, 1, 0, 1, 0, 1, 0,\n",
              "       0, 1, 0, 0, 1, 0, 0, 0, 0, 1, 1, 0, 1, 0, 0, 0, 0, 1, 1, 0, 1, 0,\n",
              "       0, 0, 1, 1, 0, 0, 0, 0, 0, 0, 0, 0, 0, 0, 1, 0, 0, 0, 0, 1, 0, 0,\n",
              "       1, 0, 0, 0, 1, 0, 0, 0, 1, 1, 1, 0, 0, 0, 0, 0, 0, 1, 0, 0, 0, 1,\n",
              "       0, 1, 1, 1, 1, 0, 1, 1, 0, 0, 0, 0, 0, 0, 0, 1, 1, 0, 1, 0, 0, 1,\n",
              "       0, 1, 0, 0, 0, 0, 0, 1, 0, 1, 0, 1, 0, 1, 1, 0, 0, 0, 0, 1, 1, 0,\n",
              "       0, 0, 1, 0, 1, 1, 0, 0, 1, 0, 0, 1, 1, 0, 0, 1, 0, 0, 1, 0, 0, 0,\n",
              "       0, 0, 0, 0, 1, 1, 1, 0, 0, 0, 0, 0, 0, 1, 1, 0, 0, 1, 0, 0, 1, 0,\n",
              "       1, 1, 1, 0, 0, 1, 1, 1, 0, 1, 0, 1, 0, 1, 0, 0, 0, 0, 1, 0])"
            ]
          },
          "metadata": {
            "tags": []
          },
          "execution_count": 10
        }
      ]
    },
    {
      "cell_type": "code",
      "metadata": {
        "id": "CqehApS8otI4"
      },
      "source": [
        "#Splitting Data into train and test set\n",
        "from sklearn.model_selection import train_test_split\n",
        "x_train, x_test, y_train, y_test = train_test_split(x, y, test_size= 0.2, random_state= 0)"
      ],
      "execution_count": 11,
      "outputs": []
    },
    {
      "cell_type": "code",
      "metadata": {
        "colab": {
          "base_uri": "https://localhost:8080/"
        },
        "id": "JcfSS3EPo2TM",
        "outputId": "7c9aa704-708f-43df-d289-fe1fdb1d67cd"
      },
      "source": [
        "print(\"Number transactions x_train dataset: \", x_train.shape)\n",
        "print(\"Number transactions y_train dataset: \", y_train.shape)\n",
        "print(\"Number transactions x_test dataset: \", x_test.shape)\n",
        "print(\"Number transactions y_test dataset: \", y_test.shape)"
      ],
      "execution_count": 12,
      "outputs": [
        {
          "output_type": "stream",
          "text": [
            "Number transactions x_train dataset:  (614, 8)\n",
            "Number transactions y_train dataset:  (614,)\n",
            "Number transactions x_test dataset:  (154, 8)\n",
            "Number transactions y_test dataset:  (154,)\n"
          ],
          "name": "stdout"
        }
      ]
    },
    {
      "cell_type": "code",
      "metadata": {
        "id": "QPwzRTiC5IqK"
      },
      "source": [
        "from sklearn.preprocessing import StandardScaler \n",
        "sc = StandardScaler()\n",
        "x_train = sc.fit_transform(x_train)\n",
        "x_test = sc.transform(x_test)"
      ],
      "execution_count": 13,
      "outputs": []
    },
    {
      "cell_type": "code",
      "metadata": {
        "id": "ABCffwTtpU7O"
      },
      "source": [
        "from sklearn.linear_model import LogisticRegression\n",
        "from sklearn.neighbors import KNeighborsClassifier\n",
        "from sklearn.naive_bayes import GaussianNB\n",
        "from sklearn.naive_bayes import BernoulliNB\n",
        "from sklearn.svm import SVC\n",
        "from sklearn.tree import DecisionTreeClassifier\n",
        "from sklearn.ensemble import RandomForestClassifier, ExtraTreesClassifier, AdaBoostClassifier, GradientBoostingClassifier\n",
        "from xgboost import XGBClassifier\n",
        "from lightgbm import LGBMClassifier"
      ],
      "execution_count": 14,
      "outputs": []
    },
    {
      "cell_type": "code",
      "metadata": {
        "id": "vs3Y3AEhpswe"
      },
      "source": [
        "from sklearn.metrics import accuracy_score, confusion_matrix, roc_auc_score, ConfusionMatrixDisplay, precision_score, recall_score, f1_score, classification_report, roc_curve, plot_roc_curve, auc, precision_recall_curve, plot_precision_recall_curve, average_precision_score\n",
        "from sklearn.model_selection import cross_val_score"
      ],
      "execution_count": 15,
      "outputs": []
    },
    {
      "cell_type": "code",
      "metadata": {
        "colab": {
          "base_uri": "https://localhost:8080/"
        },
        "id": "rt6_OZs6pwnE",
        "outputId": "2fe5fd57-4953-4edb-bf51-7ecddbdd89f4"
      },
      "source": [
        "models = []\n",
        "models.append(['Logistic Regreesion', LogisticRegression(random_state=0)])\n",
        "models.append(['SVM', SVC(random_state=0)])\n",
        "models.append(['KNeighbors', KNeighborsClassifier()])\n",
        "models.append(['GaussianNB', GaussianNB()])\n",
        "models.append(['BernoulliNB', BernoulliNB()])\n",
        "models.append(['Decision Tree', DecisionTreeClassifier(random_state=0)])\n",
        "models.append(['Random Forest', RandomForestClassifier(random_state=0)])\n",
        "models.append(['Extra Tree', ExtraTreesClassifier(random_state=0)])\n",
        "models.append(['AdaBoost', AdaBoostClassifier(random_state=0)])\n",
        "models.append(['Gradiesnt Boost', GradientBoostingClassifier(random_state=0)])\n",
        "models.append(['Light GBM', LGBMClassifier(random_state=0)])\n",
        "models.append(['XGBoost', XGBClassifier(eval_metric= 'error')])\n",
        "\n",
        "lst_1= []\n",
        "for m in range(len(models)):\n",
        "    lst_2= []\n",
        "    model = models[m][1]\n",
        "    model.fit(x_train, y_train)\n",
        "    y_pred = model.predict(x_test)\n",
        "    cm = confusion_matrix(y_test, y_pred)  #Confusion Matrix\n",
        "    accuracies = cross_val_score(estimator = model, X = x_train, y = y_train, cv = 10)   #K-Fold Validation\n",
        "    roc = roc_auc_score(y_test, y_pred)  #ROC AUC Score\n",
        "    precision = precision_score(y_test, y_pred)  #Precision Score\n",
        "    recall = recall_score(y_test, y_pred)  #Recall Score\n",
        "    f1 = f1_score(y_test, y_pred)  #F1 Score\n",
        "    print(models[m][0],':')\n",
        "    print(cm)\n",
        "    print('Accuracy Score: ',accuracy_score(y_test, y_pred))\n",
        "    print('')\n",
        "    print(\"K-Fold Validation Mean Accuracy: {:.2f} %\".format(accuracies.mean()*100))\n",
        "    print('')\n",
        "    print(\"Standard Deviation: {:.2f} %\".format(accuracies.std()*100))\n",
        "    print('')\n",
        "    print('ROC AUC Score: {:.2f}'.format(roc))\n",
        "    print('')\n",
        "    print('Precision: {:.2f}'.format(precision))\n",
        "    print('')\n",
        "    print('Recall: {:.2f}'.format(recall))\n",
        "    print('')\n",
        "    print('F1: {:.2f}'.format(f1))\n",
        "    print('-----------------------------------')\n",
        "    print('')\n",
        "    lst_2.append(models[m][0])\n",
        "    lst_2.append((accuracy_score(y_test, y_pred))*100) \n",
        "    lst_2.append(accuracies.mean()*100)\n",
        "    lst_2.append(accuracies.std()*100)\n",
        "    lst_2.append(roc)\n",
        "    lst_2.append(precision)\n",
        "    lst_2.append(recall)\n",
        "    lst_2.append(f1)\n",
        "    lst_1.append(lst_2)"
      ],
      "execution_count": 17,
      "outputs": [
        {
          "output_type": "stream",
          "text": [
            "Logistic Regreesion :\n",
            "[[98  9]\n",
            " [18 29]]\n",
            "Accuracy Score:  0.8246753246753247\n",
            "\n",
            "K-Fold Validation Mean Accuracy: 75.72 %\n",
            "\n",
            "Standard Deviation: 4.68 %\n",
            "\n",
            "ROC AUC Score: 0.77\n",
            "\n",
            "Precision: 0.76\n",
            "\n",
            "Recall: 0.62\n",
            "\n",
            "F1: 0.68\n",
            "-----------------------------------\n",
            "\n",
            "SVM :\n",
            "[[96 11]\n",
            " [21 26]]\n",
            "Accuracy Score:  0.7922077922077922\n",
            "\n",
            "K-Fold Validation Mean Accuracy: 74.92 %\n",
            "\n",
            "Standard Deviation: 3.70 %\n",
            "\n",
            "ROC AUC Score: 0.73\n",
            "\n",
            "Precision: 0.70\n",
            "\n",
            "Recall: 0.55\n",
            "\n",
            "F1: 0.62\n",
            "-----------------------------------\n",
            "\n",
            "KNeighbors :\n",
            "[[93 14]\n",
            " [17 30]]\n",
            "Accuracy Score:  0.7987012987012987\n",
            "\n",
            "K-Fold Validation Mean Accuracy: 72.80 %\n",
            "\n",
            "Standard Deviation: 2.54 %\n",
            "\n",
            "ROC AUC Score: 0.75\n",
            "\n",
            "Precision: 0.68\n",
            "\n",
            "Recall: 0.64\n",
            "\n",
            "F1: 0.66\n",
            "-----------------------------------\n",
            "\n",
            "GaussianNB :\n",
            "[[93 14]\n",
            " [18 29]]\n",
            "Accuracy Score:  0.7922077922077922\n",
            "\n",
            "K-Fold Validation Mean Accuracy: 74.27 %\n",
            "\n",
            "Standard Deviation: 5.51 %\n",
            "\n",
            "ROC AUC Score: 0.74\n",
            "\n",
            "Precision: 0.67\n",
            "\n",
            "Recall: 0.62\n",
            "\n",
            "F1: 0.64\n",
            "-----------------------------------\n",
            "\n",
            "BernoulliNB :\n",
            "[[90 17]\n",
            " [20 27]]\n",
            "Accuracy Score:  0.7597402597402597\n",
            "\n",
            "K-Fold Validation Mean Accuracy: 70.99 %\n",
            "\n",
            "Standard Deviation: 5.20 %\n",
            "\n",
            "ROC AUC Score: 0.71\n",
            "\n",
            "Precision: 0.61\n",
            "\n",
            "Recall: 0.57\n",
            "\n",
            "F1: 0.59\n",
            "-----------------------------------\n",
            "\n",
            "Decision Tree :\n",
            "[[87 20]\n",
            " [16 31]]\n",
            "Accuracy Score:  0.7662337662337663\n",
            "\n",
            "K-Fold Validation Mean Accuracy: 70.70 %\n",
            "\n",
            "Standard Deviation: 4.70 %\n",
            "\n",
            "ROC AUC Score: 0.74\n",
            "\n",
            "Precision: 0.61\n",
            "\n",
            "Recall: 0.66\n",
            "\n",
            "F1: 0.63\n",
            "-----------------------------------\n",
            "\n",
            "Random Forest :\n",
            "[[92 15]\n",
            " [18 29]]\n",
            "Accuracy Score:  0.7857142857142857\n",
            "\n",
            "K-Fold Validation Mean Accuracy: 74.28 %\n",
            "\n",
            "Standard Deviation: 6.06 %\n",
            "\n",
            "ROC AUC Score: 0.74\n",
            "\n",
            "Precision: 0.66\n",
            "\n",
            "Recall: 0.62\n",
            "\n",
            "F1: 0.64\n",
            "-----------------------------------\n",
            "\n",
            "Extra Tree :\n",
            "[[93 14]\n",
            " [16 31]]\n",
            "Accuracy Score:  0.8051948051948052\n",
            "\n",
            "K-Fold Validation Mean Accuracy: 74.76 %\n",
            "\n",
            "Standard Deviation: 4.40 %\n",
            "\n",
            "ROC AUC Score: 0.76\n",
            "\n",
            "Precision: 0.69\n",
            "\n",
            "Recall: 0.66\n",
            "\n",
            "F1: 0.67\n",
            "-----------------------------------\n",
            "\n",
            "AdaBoost :\n",
            "[[89 18]\n",
            " [16 31]]\n",
            "Accuracy Score:  0.7792207792207793\n",
            "\n",
            "K-Fold Validation Mean Accuracy: 74.26 %\n",
            "\n",
            "Standard Deviation: 5.88 %\n",
            "\n",
            "ROC AUC Score: 0.75\n",
            "\n",
            "Precision: 0.63\n",
            "\n",
            "Recall: 0.66\n",
            "\n",
            "F1: 0.65\n",
            "-----------------------------------\n",
            "\n",
            "Gradiesnt Boost :\n",
            "[[92 15]\n",
            " [15 32]]\n",
            "Accuracy Score:  0.8051948051948052\n",
            "\n",
            "K-Fold Validation Mean Accuracy: 75.41 %\n",
            "\n",
            "Standard Deviation: 6.17 %\n",
            "\n",
            "ROC AUC Score: 0.77\n",
            "\n",
            "Precision: 0.68\n",
            "\n",
            "Recall: 0.68\n",
            "\n",
            "F1: 0.68\n",
            "-----------------------------------\n",
            "\n",
            "Light GBM :\n",
            "[[92 15]\n",
            " [13 34]]\n",
            "Accuracy Score:  0.8181818181818182\n",
            "\n",
            "K-Fold Validation Mean Accuracy: 72.79 %\n",
            "\n",
            "Standard Deviation: 4.60 %\n",
            "\n",
            "ROC AUC Score: 0.79\n",
            "\n",
            "Precision: 0.69\n",
            "\n",
            "Recall: 0.72\n",
            "\n",
            "F1: 0.71\n",
            "-----------------------------------\n",
            "\n",
            "XGBoost :\n",
            "[[93 14]\n",
            " [14 33]]\n",
            "Accuracy Score:  0.8181818181818182\n",
            "\n",
            "K-Fold Validation Mean Accuracy: 75.08 %\n",
            "\n",
            "Standard Deviation: 6.73 %\n",
            "\n",
            "ROC AUC Score: 0.79\n",
            "\n",
            "Precision: 0.70\n",
            "\n",
            "Recall: 0.70\n",
            "\n",
            "F1: 0.70\n",
            "-----------------------------------\n",
            "\n"
          ],
          "name": "stdout"
        }
      ]
    },
    {
      "cell_type": "code",
      "metadata": {
        "colab": {
          "base_uri": "https://localhost:8080/",
          "height": 1000
        },
        "id": "hGnGulMLqFmu",
        "outputId": "62e483a0-8dad-4c7d-e86c-a076a796e15f"
      },
      "source": [
        "#Fitting Logistic Regression Model\n",
        "classifier = LogisticRegression(C= 1, random_state= 0)\n",
        "classifier.fit(x_train, y_train)\n",
        "y_pred = classifier.predict(x_test)\n",
        "y_prob = classifier.predict_proba(x_test)[:,1]\n",
        "cm = confusion_matrix(y_test, y_pred)\n",
        "\n",
        "print(classification_report(y_test, y_pred))\n",
        "print(f'ROC AUC score: {roc_auc_score(y_test, y_prob)}')\n",
        "print('Accuracy Score: ',accuracy_score(y_test, y_pred))\n",
        "\n",
        "# Visualizing Confusion Matrix\n",
        "plt.figure(figsize = (6, 6))\n",
        "sns.heatmap(cm, cmap = 'Blues', annot = True, fmt = 'd', linewidths = 5, cbar = False, annot_kws = {'fontsize': 15}, \n",
        "            yticklabels = ['Healthy', 'Diabetic'], xticklabels = ['Predicted Healthy', 'Predicted Diabetic'])\n",
        "plt.yticks(rotation = 0)\n",
        "plt.show()\n",
        "# Roc AUC Curve\n",
        "false_positive_rate, true_positive_rate, thresholds = roc_curve(y_test, y_prob)\n",
        "roc_auc = auc(false_positive_rate, true_positive_rate)\n",
        "\n",
        "sns.set_theme(style = 'white')\n",
        "plt.figure(figsize = (6, 6))\n",
        "plt.plot(false_positive_rate,true_positive_rate, color = '#b01717', label = 'AUC = %0.3f' % roc_auc)\n",
        "plt.legend(loc = 'lower right')\n",
        "plt.plot([0, 1], [0, 1], linestyle = '--', color = '#174ab0')\n",
        "plt.axis('tight')\n",
        "plt.ylabel('True Positive Rate')\n",
        "plt.xlabel('False Positive Rate')\n",
        "plt.title('ROC AUC Curve')\n",
        "plt.legend()\n",
        "plt.show()\n",
        "#Precision Recall Curve\n",
        "plt.figure(figsize = (6, 6))\n",
        "average_precision = average_precision_score(y_test, y_prob)\n",
        "disp = plot_precision_recall_curve(classifier, x_test, y_test)\n",
        "plt.title('Precision-Recall Curve')\n",
        "plt.show()"
      ],
      "execution_count": 18,
      "outputs": [
        {
          "output_type": "stream",
          "text": [
            "              precision    recall  f1-score   support\n",
            "\n",
            "           0       0.84      0.92      0.88       107\n",
            "           1       0.76      0.62      0.68        47\n",
            "\n",
            "    accuracy                           0.82       154\n",
            "   macro avg       0.80      0.77      0.78       154\n",
            "weighted avg       0.82      0.82      0.82       154\n",
            "\n",
            "ROC AUC score: 0.8661761781666335\n",
            "Accuracy Score:  0.8246753246753247\n"
          ],
          "name": "stdout"
        },
        {
          "output_type": "display_data",
          "data": {
            "image/png": "[encoded data removed]",
            "text/plain": [
              "<Figure size 432x432 with 1 Axes>"
            ]
          },
          "metadata": {
            "tags": []
          }
        },
        {
          "output_type": "display_data",
          "data": {
            "image/png": "[encoded data removed]",
            "text/plain": [
              "<Figure size 432x432 with 1 Axes>"
            ]
          },
          "metadata": {
            "tags": []
          }
        },
        {
          "output_type": "display_data",
          "data": {
            "text/plain": [
              "<Figure size 432x432 with 0 Axes>"
            ]
          },
          "metadata": {
            "tags": []
          }
        },
        {
          "output_type": "display_data",
          "data": {
            "image/png": "[encoded data removed]",
            "text/plain": [
              "<Figure size 432x288 with 1 Axes>"
            ]
          },
          "metadata": {
            "tags": []
          }
        }
      ]
    }
  ]
}